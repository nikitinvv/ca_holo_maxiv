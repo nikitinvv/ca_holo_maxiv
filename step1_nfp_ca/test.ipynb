{
 "cells": [
  {
   "cell_type": "code",
   "execution_count": 1,
   "metadata": {},
   "outputs": [],
   "source": [
    "import cupy as cp\n",
    "import numpy as np\n",
    "import matplotlib.pyplot as plt\n",
    "import pandas as pd\n",
    "import cv2\n",
    "import xraylib\n",
    "import random\n",
    "import cupyx.scipy.ndimage as ndimage\n",
    "from types import SimpleNamespace\n",
    "import warnings\n",
    "warnings.filterwarnings(\"ignore\", message=f\".*peer.*\")\n",
    "\n",
    "from utils import *\n",
    "from rec import Rec"
   ]
  },
  {
   "cell_type": "markdown",
   "metadata": {},
   "source": [
    "## Sizes and propagation settings"
   ]
  },
  {
   "cell_type": "code",
   "execution_count": 2,
   "metadata": {},
   "outputs": [],
   "source": [
    "n = 1024  # detector size in each dimension\n",
    "npsi = 2048 # object size in each dimension\n",
    "npos = 32 # total number of positions\n",
    "ngpus = 4 # number of gpus\n",
    "nchunk = 4 # chunks on gpu\n",
    "\n",
    "z1 = -17.75e-3 # [m] position of the CA\n",
    "detector_pixelsize = 3.03751e-6\n",
    "energy = 33.35  # [keV] xray energy\n",
    "wavelength = 1.24e-09/energy  # [m] wave length\n",
    "focusToDetectorDistance = 1.28  # [m]\n",
    "z2 = focusToDetectorDistance-z1\n",
    "distance = (z1*z2)/focusToDetectorDistance\n",
    "magnification = focusToDetectorDistance/z1\n",
    "voxelsize = np.abs(detector_pixelsize/magnification)  # object voxel size"
   ]
  },
  {
   "cell_type": "code",
   "execution_count": 3,
   "metadata": {},
   "outputs": [],
   "source": [
    "args = SimpleNamespace()\n",
    "\n",
    "args.ngpus = ngpus\n",
    "args.n = n\n",
    "args.npsi = npsi\n",
    "args.pad = 0\n",
    "args.nq = args.n + 2 * args.pad\n",
    "args.ex = 0\n",
    "args.npatch = args.nq + 2 * args.ex\n",
    "args.npos = npos\n",
    "args.nchunk = nchunk\n",
    "args.voxelsize = voxelsize\n",
    "args.wavelength = wavelength\n",
    "args.distance = distance\n",
    "\n",
    "# create class\n",
    "cl_rec = Rec(args)"
   ]
  },
  {
   "cell_type": "markdown",
   "metadata": {},
   "source": [
    "## Generate positions of the CA"
   ]
  },
  {
   "cell_type": "code",
   "execution_count": null,
   "metadata": {},
   "outputs": [],
   "source": [
    "np.random.seed(2)\n",
    "pos = (np.random.random([npos,2]).astype('float32')-0.5)*npsi/3\n",
    "mplot_positions(pos)"
   ]
  },
  {
   "cell_type": "markdown",
   "metadata": {},
   "source": [
    "## Load probe"
   ]
  },
  {
   "cell_type": "code",
   "execution_count": null,
   "metadata": {},
   "outputs": [],
   "source": [
    "!wget -nc https://g-110014.fd635.8443.data.globus.org/holotomocupy/examples_synthetic/data/prb_id16a/prb_abs_2048.tiff \n",
    "!wget -nc https://g-110014.fd635.8443.data.globus.org/holotomocupy/examples_synthetic/data/prb_id16a/prb_phase_2048.tiff \n",
    "\n",
    "q_abs = read_tiff(f'prb_abs_2048.tiff')[0,1024-args.nq//2:1024+args.nq//2,1024-args.nq//2:1024+args.nq//2]\n",
    "q_phase = read_tiff(f'prb_phase_2048.tiff')[0,1024-args.nq//2:1024+args.nq//2,1024-args.nq//2:1024+args.nq//2]\n",
    "q = cp.array(q_abs*np.exp(1j*q_phase)).astype('complex64')\n",
    "\n",
    "#smooth it slightly\n",
    "v = cp.arange(-args.nq//2,args.nq//2)/args.nq\n",
    "[vx,vy] = cp.meshgrid(v,v)\n",
    "v = cp.exp(-10*(vx**2+vy**2))\n",
    "fq = cp.fft.fftshift(cp.fft.fftn(cp.fft.fftshift(q)))\n",
    "q = cp.fft.fftshift(cp.fft.ifftn(cp.fft.fftshift(fq*v))).astype('complex64')\n",
    "q = q.get()\n",
    "mshow_polar(q)\n"
   ]
  },
  {
   "cell_type": "markdown",
   "metadata": {},
   "source": [
    "## generate coded aperture"
   ]
  },
  {
   "cell_type": "code",
   "execution_count": null,
   "metadata": {},
   "outputs": [],
   "source": [
    "bin_size = 2e-6\n",
    "code_thickness = 1.5e-6\n",
    "\n",
    "random.seed(10)\n",
    "nill = 2*args.npsi\n",
    "ill_global = cp.zeros([nill,nill],dtype='bool')\n",
    "ill0 = cp.zeros([nill*nill],dtype='bool')\n",
    "ill_ids = random.sample(range(0, nill*nill), int(nill*nill*0.55))\n",
    "ill0[ill_ids] = 1\n",
    "ill_global = ill0.reshape(nill,nill)\n",
    "\n",
    "# form codes for simulations\n",
    "nill = int((args.npsi*voxelsize)//(bin_size*2))*2\n",
    "ill = cp.zeros([nill,nill],dtype='bool')\n",
    "ill0 = ill_global\n",
    "ill = ill0[ill0.shape[0]//2-nill//2:ill0.shape[0]//2+(nill)//2,\n",
    "                ill0.shape[1]//2-nill//2:ill0.shape[1]//2+(nill)//2]#.reshape(nill,nill)\n",
    "\n",
    "ill = ndimage.zoom(ill,args.npsi/nill,order=0,grid_mode=True,mode='grid-wrap')\n",
    "\n",
    "delta = 1-xraylib.Refractive_Index_Re('Au',energy,19.3)\n",
    "beta = xraylib.Refractive_Index_Im('Au',energy,19.3)\n",
    "\n",
    "thickness = code_thickness/voxelsize # thickness in pixels\n",
    "\n",
    "# form Transmittance function\n",
    "Rill = ill*(-delta+1j*beta)*thickness \n",
    "Rill=ndimage.rotate(Rill, 45, axes=(1, 0), reshape=False, order=3, mode='reflect',\n",
    "                   prefilter=True)\n",
    "\n",
    "v = cp.arange(-args.npsi//2,args.npsi//2)/2/args.npsi\n",
    "[vx,vy] = cp.meshgrid(v,v)\n",
    "v = cp.exp(-10*(vx**2+vy**2))\n",
    "fill = cp.fft.fftshift(cp.fft.fftn(cp.fft.fftshift(Rill)))\n",
    "Rill = cp.fft.fftshift(cp.fft.ifftn(cp.fft.fftshift(fill*v)))\n",
    "Rill = Rill.astype('complex64')\n",
    "\n",
    "psi = cp.exp(1j * Rill * voxelsize * 2 * np.pi / wavelength).astype('complex64')\n",
    "psi = psi.get()\n",
    "mshow_polar(psi,True)\n",
    "mshow_polar(psi[:n//5,:n//5],True)\n",
    "\n"
   ]
  },
  {
   "cell_type": "markdown",
   "metadata": {},
   "source": [
    "### check bin size in pixels:"
   ]
  },
  {
   "cell_type": "code",
   "execution_count": null,
   "metadata": {},
   "outputs": [],
   "source": [
    "bin_size/voxelsize"
   ]
  },
  {
   "cell_type": "markdown",
   "metadata": {},
   "source": [
    "## simulate data and reference image"
   ]
  },
  {
   "cell_type": "code",
   "execution_count": null,
   "metadata": {},
   "outputs": [],
   "source": [
    "ri = np.round(pos).astype('int32')\n",
    "r = (pos-ri).astype('float32')\n",
    "data = np.abs(cl_rec.fwd(ri,r,psi,q))**2\n",
    "ref = (np.abs(cl_rec.fwd(ri,r,psi*0+1,q))**2)[0]\n",
    "mshow(data[0])\n",
    "mshow(ref)\n",
    "mshow(data[0]/ref)"
   ]
  },
  {
   "cell_type": "markdown",
   "metadata": {},
   "source": [
    "# Reconstruction"
   ]
  },
  {
   "cell_type": "markdown",
   "metadata": {},
   "source": [
    "## init probe by propagting it the reference image"
   ]
  },
  {
   "cell_type": "code",
   "execution_count": null,
   "metadata": {},
   "outputs": [],
   "source": [
    "q_init = cp.array(cl_rec.DT(np.sqrt(ref[np.newaxis]))[0])\n",
    "\n",
    "ppad = 3 * args.pad // 2\n",
    "q_init = np.pad(\n",
    "    q_init[ppad : args.nq - ppad, ppad : args.nq - ppad],\n",
    "    ((ppad, ppad), (ppad, ppad)),\n",
    "    \"symmetric\",\n",
    ")\n",
    "v = cp.ones(args.nq, dtype=\"float32\")\n",
    "vv = cp.sin(cp.linspace(0, cp.pi / 2, ppad))\n",
    "v[:ppad] = vv\n",
    "v[args.nq - ppad :] = vv[::-1]\n",
    "v = cp.outer(v, v)\n",
    "q_init = cp.abs(q_init * v) * cp.exp(1j * cp.angle(q_init) * v)\n",
    "q_init = q_init.get()\n",
    "mshow_polar(q_init)"
   ]
  },
  {
   "cell_type": "code",
   "execution_count": null,
   "metadata": {},
   "outputs": [],
   "source": [
    "def Paganin(data, wavelength, voxelsize, delta_beta, alpha):\n",
    "    fx = cp.fft.fftfreq(data.shape[-1], d=voxelsize).astype(\"float32\")\n",
    "    [fx, fy] = cp.meshgrid(fx, fx)\n",
    "    rad_freq = cp.fft.fft2(data)\n",
    "    taylorExp = 1 + wavelength * distance * cp.pi * (delta_beta) * (fx**2 + fy**2)\n",
    "    numerator = taylorExp * (rad_freq)\n",
    "    denominator = taylorExp**2 + alpha\n",
    "    phase = cp.log(cp.real(cp.fft.ifft2(numerator / denominator)))\n",
    "    phase = delta_beta * 0.5 * phase\n",
    "    return phase\n",
    "\n",
    "\n",
    "def rec_init(rdata, ishifts):\n",
    "    recMultiPaganin = cp.zeros([args.npsi, args.npsi], dtype=\"float32\")\n",
    "    recMultiPaganinr = cp.zeros(\n",
    "        [args.npsi, args.npsi], dtype=\"float32\"\n",
    "    )  # to compensate for overlap\n",
    "    for j in range(0, npos):\n",
    "        r = cp.array(rdata[j])\n",
    "        r = Paganin(r, wavelength, voxelsize, 24.05, 1e-3)\n",
    "        rr = r * 0 + 1  # to compensate for overlap\n",
    "        rpsi = cp.zeros([args.npsi, args.npsi], dtype=\"float32\")\n",
    "        rrpsi = cp.zeros([args.npsi, args.npsi], dtype=\"float32\")\n",
    "        stx = args.npsi // 2 - ishifts[j, 1] - n // 2\n",
    "        endx = stx + n\n",
    "        sty = args.npsi // 2 - ishifts[j, 0] - n // 2\n",
    "        endy = sty + n\n",
    "        rpsi[sty:endy, stx:endx] = r\n",
    "        rrpsi[sty:endy, stx:endx] = rr\n",
    "\n",
    "        recMultiPaganin += rpsi\n",
    "        recMultiPaganinr += rrpsi\n",
    "\n",
    "    recMultiPaganinr[np.abs(recMultiPaganinr) < 5e-2] = 1\n",
    "    recMultiPaganin /= recMultiPaganinr\n",
    "    recMultiPaganin = cp.exp(1j * recMultiPaganin)\n",
    "    return recMultiPaganin\n",
    "\n",
    "\n",
    "\n",
    "rdata = np.array(data / (ref + 1e-5))\n",
    "psi_init = rec_init(rdata, ri)\n",
    "mshow_polar(psi_init,True)\n",
    "mshow_polar(psi_init[:1000, :1000],True)\n",
    "\n",
    "# smooth borders\n",
    "v = cp.arange(-args.npsi // 2,args.npsi // 2) / args.npsi\n",
    "[vx, vy] = cp.meshgrid(v, v)\n",
    "v = cp.exp(-1000 * (vx**2 + vy**2)).astype(\"float32\")\n",
    "\n",
    "psi_init = cp.fft.fftshift(cp.fft.fftn(cp.fft.fftshift(psi_init)))\n",
    "psi_init = cp.fft.fftshift(cp.fft.ifftn(cp.fft.fftshift(psi_init * v))).astype(\"complex64\")\n",
    "psi_init=psi_init.get()\n",
    "mshow_polar(psi_init)\n",
    "mshow_polar(psi_init[:1000, :1000])\n"
   ]
  },
  {
   "cell_type": "markdown",
   "metadata": {},
   "source": [
    "# Reconstruction by the BH method"
   ]
  },
  {
   "cell_type": "code",
   "execution_count": null,
   "metadata": {},
   "outputs": [],
   "source": [
    "# variables\n",
    "vars = {}\n",
    "vars[\"psi\"] = psi_init.copy()\n",
    "vars[\"q\"] = q_init.copy()\n",
    "vars[\"ri\"] = np.round(pos).astype(\"int32\")\n",
    "vars[\"r_init\"] = (pos - vars[\"ri\"]).astype(\"float32\")\n",
    "vars[\"r\"] = vars[\"r_init\"].copy()+(np.random.random([npos,2])-0.5).astype('float32')\n",
    "vars[\"table\"] = pd.DataFrame(columns=[\"iter\", \"err\", \"time\"])\n",
    "\n",
    "cl_rec.rho = [1,2,0.1]\n",
    "cl_rec.niter = 257\n",
    "cl_rec.vis_step = 32\n",
    "cl_rec.err_step = 32\n",
    "cl_rec.eps = 0\n",
    "cl_rec.lam = 0\n",
    "cl_rec.path_out = \"/data/tmp/\"\n",
    "cl_rec.show = True\n",
    "\n",
    "# reconstruction\n",
    "vars = cl_rec.BH(data, ref, vars)"
   ]
  }
 ],
 "metadata": {
  "kernelspec": {
   "display_name": "holotomocupy",
   "language": "python",
   "name": "python3"
  },
  "language_info": {
   "codemirror_mode": {
    "name": "ipython",
    "version": 3
   },
   "file_extension": ".py",
   "mimetype": "text/x-python",
   "name": "python",
   "nbconvert_exporter": "python",
   "pygments_lexer": "ipython3",
   "version": "3.12.8"
  }
 },
 "nbformat": 4,
 "nbformat_minor": 2
}
